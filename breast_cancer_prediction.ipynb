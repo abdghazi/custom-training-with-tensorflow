{
  "nbformat": 4,
  "nbformat_minor": 0,
  "metadata": {
    "colab": {
      "name": "breast_cancer_prediction.ipynb",
      "provenance": [],
      "collapsed_sections": []
    },
    "kernelspec": {
      "name": "python3",
      "display_name": "Python 3"
    }
  },
  "cells": [
    {
      "cell_type": "code",
      "metadata": {
        "id": "yf2dAHqnaoxJ"
      },
      "source": [
        "# Breast Cancer Prediction"
      ],
      "execution_count": 1,
      "outputs": []
    },
    {
      "cell_type": "code",
      "metadata": {
        "id": "vtjj5W0miYlw"
      },
      "source": [
        "import tensorflow as tf\r\n",
        "from tensorflow.keras.models import Model\r\n",
        "from tensorflow.keras.layers import Dense, Input\r\n",
        "\r\n",
        "import numpy as np\r\n",
        "import matplotlib.pyplot as plt\r\n",
        "import matplotlib.ticker as mticker\r\n",
        "import pandas as pd\r\n",
        "from sklearn.model_selection import train_test_split\r\n",
        "from sklearn.metrics import confusion_matrix\r\n",
        "import itertools\r\n",
        "from tqdm import tqdm\r\n",
        "import tensorflow_datasets as tfds\r\n",
        "\r\n",
        "tf.get_logger().setLevel('ERROR')"
      ],
      "execution_count": 2,
      "outputs": []
    },
    {
      "cell_type": "code",
      "metadata": {
        "colab": {
          "base_uri": "https://localhost:8080/"
        },
        "id": "1pmCnpHFiaYJ",
        "outputId": "049e9f24-19b3-4b76-d829-8a9c0dcf2631"
      },
      "source": [
        "## Load and Preprocess the Dataset\r\n",
        "\r\n",
        "DATASET_URL = \"https://archive.ics.uci.edu/ml/machine-learning-databases/breast-cancer-wisconsin/breast-cancer-wisconsin.data\"\r\n",
        "data_file = tf.keras.utils.get_file(\"breast_cancer.csv\", DATASET_URL)\r\n",
        "col_names = [\"id\", \"clump_thickness\", \"un_cell_size\", \"un_cell_shape\", \"marginal_adheshion\", \"single_eph_cell_size\", \"bare_nuclei\", \"bland_chromatin\", \"normal_nucleoli\", \"mitoses\", \"class\"]\r\n",
        "df = pd.read_csv(data_file, names=col_names, header=None)"
      ],
      "execution_count": 3,
      "outputs": [
        {
          "output_type": "stream",
          "text": [
            "Downloading data from https://archive.ics.uci.edu/ml/machine-learning-databases/breast-cancer-wisconsin/breast-cancer-wisconsin.data\n",
            "24576/19889 [=====================================] - 0s 6us/step\n"
          ],
          "name": "stdout"
        }
      ]
    },
    {
      "cell_type": "code",
      "metadata": {
        "colab": {
          "base_uri": "https://localhost:8080/",
          "height": 195
        },
        "id": "JkUgUR04id4Y",
        "outputId": "5b2bfb79-ba12-45f4-d350-9739d882c063"
      },
      "source": [
        "df.head()"
      ],
      "execution_count": 4,
      "outputs": [
        {
          "output_type": "execute_result",
          "data": {
            "text/html": [
              "<div>\n",
              "<style scoped>\n",
              "    .dataframe tbody tr th:only-of-type {\n",
              "        vertical-align: middle;\n",
              "    }\n",
              "\n",
              "    .dataframe tbody tr th {\n",
              "        vertical-align: top;\n",
              "    }\n",
              "\n",
              "    .dataframe thead th {\n",
              "        text-align: right;\n",
              "    }\n",
              "</style>\n",
              "<table border=\"1\" class=\"dataframe\">\n",
              "  <thead>\n",
              "    <tr style=\"text-align: right;\">\n",
              "      <th></th>\n",
              "      <th>id</th>\n",
              "      <th>clump_thickness</th>\n",
              "      <th>un_cell_size</th>\n",
              "      <th>un_cell_shape</th>\n",
              "      <th>marginal_adheshion</th>\n",
              "      <th>single_eph_cell_size</th>\n",
              "      <th>bare_nuclei</th>\n",
              "      <th>bland_chromatin</th>\n",
              "      <th>normal_nucleoli</th>\n",
              "      <th>mitoses</th>\n",
              "      <th>class</th>\n",
              "    </tr>\n",
              "  </thead>\n",
              "  <tbody>\n",
              "    <tr>\n",
              "      <th>0</th>\n",
              "      <td>1000025</td>\n",
              "      <td>5</td>\n",
              "      <td>1</td>\n",
              "      <td>1</td>\n",
              "      <td>1</td>\n",
              "      <td>2</td>\n",
              "      <td>1</td>\n",
              "      <td>3</td>\n",
              "      <td>1</td>\n",
              "      <td>1</td>\n",
              "      <td>2</td>\n",
              "    </tr>\n",
              "    <tr>\n",
              "      <th>1</th>\n",
              "      <td>1002945</td>\n",
              "      <td>5</td>\n",
              "      <td>4</td>\n",
              "      <td>4</td>\n",
              "      <td>5</td>\n",
              "      <td>7</td>\n",
              "      <td>10</td>\n",
              "      <td>3</td>\n",
              "      <td>2</td>\n",
              "      <td>1</td>\n",
              "      <td>2</td>\n",
              "    </tr>\n",
              "    <tr>\n",
              "      <th>2</th>\n",
              "      <td>1015425</td>\n",
              "      <td>3</td>\n",
              "      <td>1</td>\n",
              "      <td>1</td>\n",
              "      <td>1</td>\n",
              "      <td>2</td>\n",
              "      <td>2</td>\n",
              "      <td>3</td>\n",
              "      <td>1</td>\n",
              "      <td>1</td>\n",
              "      <td>2</td>\n",
              "    </tr>\n",
              "    <tr>\n",
              "      <th>3</th>\n",
              "      <td>1016277</td>\n",
              "      <td>6</td>\n",
              "      <td>8</td>\n",
              "      <td>8</td>\n",
              "      <td>1</td>\n",
              "      <td>3</td>\n",
              "      <td>4</td>\n",
              "      <td>3</td>\n",
              "      <td>7</td>\n",
              "      <td>1</td>\n",
              "      <td>2</td>\n",
              "    </tr>\n",
              "    <tr>\n",
              "      <th>4</th>\n",
              "      <td>1017023</td>\n",
              "      <td>4</td>\n",
              "      <td>1</td>\n",
              "      <td>1</td>\n",
              "      <td>3</td>\n",
              "      <td>2</td>\n",
              "      <td>1</td>\n",
              "      <td>3</td>\n",
              "      <td>1</td>\n",
              "      <td>1</td>\n",
              "      <td>2</td>\n",
              "    </tr>\n",
              "  </tbody>\n",
              "</table>\n",
              "</div>"
            ],
            "text/plain": [
              "        id  clump_thickness  un_cell_size  ...  normal_nucleoli  mitoses  class\n",
              "0  1000025                5             1  ...                1        1      2\n",
              "1  1002945                5             4  ...                2        1      2\n",
              "2  1015425                3             1  ...                1        1      2\n",
              "3  1016277                6             8  ...                7        1      2\n",
              "4  1017023                4             1  ...                1        1      2\n",
              "\n",
              "[5 rows x 11 columns]"
            ]
          },
          "metadata": {
            "tags": []
          },
          "execution_count": 4
        }
      ]
    },
    {
      "cell_type": "code",
      "metadata": {
        "colab": {
          "base_uri": "https://localhost:8080/"
        },
        "id": "f_4hI3ExihHL",
        "outputId": "91faaf01-7957-4f32-8b76-7163e87120c3"
      },
      "source": [
        "df.pop(\"id\")"
      ],
      "execution_count": 5,
      "outputs": [
        {
          "output_type": "execute_result",
          "data": {
            "text/plain": [
              "0      1000025\n",
              "1      1002945\n",
              "2      1015425\n",
              "3      1016277\n",
              "4      1017023\n",
              "        ...   \n",
              "694     776715\n",
              "695     841769\n",
              "696     888820\n",
              "697     897471\n",
              "698     897471\n",
              "Name: id, Length: 699, dtype: int64"
            ]
          },
          "metadata": {
            "tags": []
          },
          "execution_count": 5
        }
      ]
    },
    {
      "cell_type": "code",
      "metadata": {
        "id": "9Jf5RbK_iiOx"
      },
      "source": [
        "df = df[df[\"bare_nuclei\"] != '?' ]\r\n",
        "df.bare_nuclei = pd.to_numeric(df.bare_nuclei)"
      ],
      "execution_count": 6,
      "outputs": []
    },
    {
      "cell_type": "code",
      "metadata": {
        "colab": {
          "base_uri": "https://localhost:8080/",
          "height": 282
        },
        "id": "LuhHHr24ikPg",
        "outputId": "57172673-054f-4b04-e5a3-34e428072eb5"
      },
      "source": [
        "df['class'].hist(bins=20) "
      ],
      "execution_count": 7,
      "outputs": [
        {
          "output_type": "execute_result",
          "data": {
            "text/plain": [
              "<matplotlib.axes._subplots.AxesSubplot at 0x7f7a9bf170b8>"
            ]
          },
          "metadata": {
            "tags": []
          },
          "execution_count": 7
        },
        {
          "output_type": "display_data",
          "data": {
            "image/png": "[encoded data removed]",
            "text/plain": [
              "<Figure size 432x288 with 1 Axes>"
            ]
          },
          "metadata": {
            "tags": [],
            "needs_background": "light"
          }
        }
      ]
    },
    {
      "cell_type": "code",
      "metadata": {
        "id": "7CmxW3BfilR3"
      },
      "source": [
        "# We are going to model this problem as a binary classification problem which detects whether the tumor is malignant or not. Hence, we change the dataset so that:\r\n",
        "\r\n",
        "# benign(2.0) = 0\r\n",
        "# malignant(4.0) = 1"
      ],
      "execution_count": 8,
      "outputs": []
    },
    {
      "cell_type": "code",
      "metadata": {
        "id": "Hz0LKtY8it0z"
      },
      "source": [
        "df['class'] = np.where(df['class'] == 2, 0, 1)"
      ],
      "execution_count": 9,
      "outputs": []
    },
    {
      "cell_type": "code",
      "metadata": {
        "id": "3vkVsvXpivPF"
      },
      "source": [
        "train, test = train_test_split(df, test_size = 0.2)"
      ],
      "execution_count": 10,
      "outputs": []
    },
    {
      "cell_type": "code",
      "metadata": {
        "id": "QRMHDlTqiwUY"
      },
      "source": [
        "train_stats = train.describe()\r\n",
        "train_stats.pop('class')\r\n",
        "train_stats = train_stats.transpose()"
      ],
      "execution_count": 11,
      "outputs": []
    },
    {
      "cell_type": "code",
      "metadata": {
        "id": "Oi0oxWj0ixik"
      },
      "source": [
        "train_Y = train.pop(\"class\")\r\n",
        "test_Y = test.pop(\"class\")"
      ],
      "execution_count": 12,
      "outputs": []
    },
    {
      "cell_type": "code",
      "metadata": {
        "id": "4B6Tp9A0i1xU"
      },
      "source": [
        "#Here we normalize the data by using the formula: **X = (X - mean(X)) / StandardDeviation(X)**\r\n",
        "\r\n",
        "def norm(x):\r\n",
        "    return (x - train_stats['mean']) / train_stats['std']\r\n",
        "\r\n",
        "\r\n",
        "norm_train_X = norm(train)\r\n",
        "norm_test_X = norm(test)"
      ],
      "execution_count": 15,
      "outputs": []
    },
    {
      "cell_type": "code",
      "metadata": {
        "id": "E5ampK_Bi4ba"
      },
      "source": [
        "train_dataset = tf.data.Dataset.from_tensor_slices((norm_train_X.values, train_Y.values))\r\n",
        "test_dataset = tf.data.Dataset.from_tensor_slices((norm_test_X.values, test_Y.values))"
      ],
      "execution_count": 16,
      "outputs": []
    },
    {
      "cell_type": "code",
      "metadata": {
        "id": "wYcdnTlaoIYn"
      },
      "source": [
        "batch_size = 32\r\n",
        "train_dataset = train_dataset.shuffle(buffer_size=len(train)).batch(batch_size)\r\n",
        "\r\n",
        "test_dataset =  test_dataset.batch(batch_size=batch_size)"
      ],
      "execution_count": 17,
      "outputs": []
    },
    {
      "cell_type": "code",
      "metadata": {
        "colab": {
          "base_uri": "https://localhost:8080/"
        },
        "id": "QI_4P0cMoLzl",
        "outputId": "9c77b64b-703a-4310-cc0d-9d9f87bc5a65"
      },
      "source": [
        "a = enumerate(train_dataset)\r\n",
        "\r\n",
        "print(len(list(a)))"
      ],
      "execution_count": 18,
      "outputs": [
        {
          "output_type": "stream",
          "text": [
            "18\n"
          ],
          "name": "stdout"
        }
      ]
    },
    {
      "cell_type": "code",
      "metadata": {
        "id": "IYI0uXeGoMya"
      },
      "source": [
        "def base_model():\r\n",
        "    inputs = tf.keras.layers.Input(shape=(len(train.columns)))\r\n",
        "\r\n",
        "    x = tf.keras.layers.Dense(128, activation='relu')(inputs)\r\n",
        "    x = tf.keras.layers.Dense(64, activation='relu')(x)\r\n",
        "    outputs = tf.keras.layers.Dense(1, activation='sigmoid')(x)\r\n",
        "    model = tf.keras.Model(inputs=inputs, outputs=outputs)\r\n",
        "    return model\r\n",
        "\r\n",
        "model = base_model()"
      ],
      "execution_count": 19,
      "outputs": []
    },
    {
      "cell_type": "code",
      "metadata": {
        "id": "g2RlaLsIoN7N"
      },
      "source": [
        "optimizer = tf.keras.optimizers.RMSprop(learning_rate=0.001)\r\n",
        "loss_object = tf.keras.losses.BinaryCrossentropy()"
      ],
      "execution_count": 20,
      "outputs": []
    },
    {
      "cell_type": "code",
      "metadata": {
        "colab": {
          "base_uri": "https://localhost:8080/"
        },
        "id": "jWRm0VPQoO8y",
        "outputId": "3ee652fb-8071-488d-9350-9a8abfbcb9c6"
      },
      "source": [
        "outputs = model(norm_test_X.values)\r\n",
        "loss_value = loss_object(y_true=test_Y.values.reshape([137, 1]), y_pred=outputs)\r\n",
        "print(\"Loss before training %.4f\" % loss_value.numpy())"
      ],
      "execution_count": 24,
      "outputs": [
        {
          "output_type": "stream",
          "text": [
            "Loss before training 0.6927\n"
          ],
          "name": "stdout"
        }
      ]
    },
    {
      "cell_type": "code",
      "metadata": {
        "id": "frn_3Ba1oQIN"
      },
      "source": [
        "def plot_confusion_matrix(y_true, y_pred, title='', labels=[0,1]):\r\n",
        "    cm = confusion_matrix(y_true, y_pred)\r\n",
        "    fig = plt.figure()\r\n",
        "    ax = fig.add_subplot(111)\r\n",
        "    cax = ax.matshow(cm)\r\n",
        "    plt.title(title)\r\n",
        "    fig.colorbar(cax)\r\n",
        "    ax.set_xticklabels([''] + labels)\r\n",
        "    ax.set_yticklabels([''] + labels)\r\n",
        "    plt.xlabel('Predicted')\r\n",
        "    plt.ylabel('True')\r\n",
        "    fmt = 'd'\r\n",
        "    thresh = cm.max() / 2.\r\n",
        "    for i, j in itertools.product(range(cm.shape[0]), range(cm.shape[1])):\r\n",
        "          plt.text(j, i, format(cm[i, j], fmt),\r\n",
        "                  horizontalalignment=\"center\",\r\n",
        "                  color=\"black\" if cm[i, j] > thresh else \"white\")\r\n",
        "    plt.show()"
      ],
      "execution_count": 25,
      "outputs": []
    },
    {
      "cell_type": "code",
      "metadata": {
        "colab": {
          "base_uri": "https://localhost:8080/",
          "height": 289
        },
        "id": "zWU1FK8prhwH",
        "outputId": "8105648d-3507-429b-eab4-1b4e75ddc132"
      },
      "source": [
        "plot_confusion_matrix(test_Y.values, tf.round(outputs), title='Confusion Matrix for Untrained Model')"
      ],
      "execution_count": 26,
      "outputs": [
        {
          "output_type": "display_data",
          "data": {
            "image/png": "[encoded data removed]",
            "text/plain": [
              "<Figure size 432x288 with 2 Axes>"
            ]
          },
          "metadata": {
            "tags": [],
            "needs_background": "light"
          }
        }
      ]
    },
    {
      "cell_type": "code",
      "metadata": {
        "id": "W1m-vCNrrjAv"
      },
      "source": [
        "class F1Score(tf.keras.metrics.Metric):\r\n",
        "\r\n",
        "    def __init__(self, name='f1_score', **kwargs):\r\n",
        "        '''initializes attributes of the class'''\r\n",
        "        \r\n",
        "        # call the parent class init\r\n",
        "        super(F1Score, self).__init__(name=name, **kwargs)\r\n",
        "\r\n",
        "        # Initialize Required variables\r\n",
        "        # true positives\r\n",
        "        self.tp = tf.Variable(0, dtype = 'int32')\r\n",
        "        # false positives\r\n",
        "        self.fp = tf.Variable(0, dtype = 'int32')\r\n",
        "        # true negatives\r\n",
        "        self.tn = tf.Variable(0, dtype = 'int32')\r\n",
        "        # false negatives\r\n",
        "        self.fn = tf.Variable(0, dtype = 'int32')\r\n",
        "\r\n",
        "    def update_state(self, y_true, y_pred, sample_weight=None):\r\n",
        "        '''\r\n",
        "        Accumulates statistics for the metric\r\n",
        "        \r\n",
        "        Args:\r\n",
        "            y_true: target values from the test data\r\n",
        "            y_pred: predicted values by the model\r\n",
        "        '''\r\n",
        "\r\n",
        "        # Calulcate confusion matrix.\r\n",
        "        conf_matrix = tf.math.confusion_matrix(y_true, y_pred, num_classes=2)\r\n",
        "        \r\n",
        "        # Update values of true positives, true negatives, false positives and false negatives from confusion matrix.\r\n",
        "        self.tn.assign_add(conf_matrix[0][0])\r\n",
        "        self.tp.assign_add(conf_matrix[1][1])\r\n",
        "        self.fp.assign_add(conf_matrix[0][1])\r\n",
        "        self.fn.assign_add(conf_matrix[1][0])\r\n",
        "\r\n",
        "    def result(self):\r\n",
        "        '''Computes and returns the metric value tensor.'''\r\n",
        "\r\n",
        "        # Calculate precision\r\n",
        "        if (self.tp + self.fp == 0):\r\n",
        "            precision = 1.0\r\n",
        "        else:\r\n",
        "            precision = self.tp / (self.tp + self.fp)\r\n",
        "      \r\n",
        "        # Calculate recall\r\n",
        "        if (self.tp + self.fn == 0):\r\n",
        "            recall = 1.0\r\n",
        "        else:\r\n",
        "            recall = self.tp / (self.tp + self.fn)\r\n",
        "\r\n",
        "        # Return F1 Score\r\n",
        "        ### START CODE HERE ###\r\n",
        "        f1_score = 2 * ((precision * recall)/(precision + recall))\r\n",
        "        ### END CODE HERE ###\r\n",
        "        \r\n",
        "        return f1_score\r\n",
        "\r\n",
        "    def reset_states(self):\r\n",
        "        '''Resets all of the metric state variables.'''\r\n",
        "        \r\n",
        "        # The state of the metric will be reset at the start of each epoch.\r\n",
        "        self.tp.assign(0)\r\n",
        "        self.tn.assign(0) \r\n",
        "        self.fp.assign(0)\r\n",
        "        self.fn.assign(0)\r\n"
      ],
      "execution_count": 28,
      "outputs": []
    },
    {
      "cell_type": "code",
      "metadata": {
        "colab": {
          "base_uri": "https://localhost:8080/"
        },
        "id": "LtZTwe9mrnhM",
        "outputId": "7f274bf0-8daa-4feb-8d61-225f137392c1"
      },
      "source": [
        "# Test Code:\r\n",
        "\r\n",
        "test_F1Score = F1Score()\r\n",
        "\r\n",
        "test_F1Score.tp = tf.Variable(2, dtype = 'int32')\r\n",
        "test_F1Score.fp = tf.Variable(5, dtype = 'int32')\r\n",
        "test_F1Score.tn = tf.Variable(7, dtype = 'int32')\r\n",
        "test_F1Score.fn = tf.Variable(9, dtype = 'int32')\r\n",
        "test_F1Score.result()\r\n"
      ],
      "execution_count": 29,
      "outputs": [
        {
          "output_type": "execute_result",
          "data": {
            "text/plain": [
              "<tf.Tensor: shape=(), dtype=float64, numpy=0.2222222222222222>"
            ]
          },
          "metadata": {
            "tags": []
          },
          "execution_count": 29
        }
      ]
    },
    {
      "cell_type": "code",
      "metadata": {
        "id": "u3YYQyxGsyu3"
      },
      "source": [
        "train_f1score_metric = F1Score()\r\n",
        "val_f1score_metric = F1Score()\r\n",
        "\r\n",
        "train_acc_metric = tf.keras.metrics.BinaryAccuracy()\r\n",
        "val_acc_metric = tf.keras.metrics.BinaryAccuracy()"
      ],
      "execution_count": 30,
      "outputs": []
    },
    {
      "cell_type": "code",
      "metadata": {
        "id": "KD0ry77rtAA8"
      },
      "source": [
        "### Apply Gradients"
      ],
      "execution_count": 31,
      "outputs": []
    },
    {
      "cell_type": "code",
      "metadata": {
        "id": "APRZTT7otB3d"
      },
      "source": [
        "def apply_gradient(optimizer, loss_object, model, x, y):\r\n",
        "    '''\r\n",
        "    applies the gradients to the trainable model weights\r\n",
        "    \r\n",
        "    Args:\r\n",
        "        optimizer: optimizer to update model weights\r\n",
        "        loss_object: type of loss to measure during training\r\n",
        "        model: the model we are training\r\n",
        "        x: input data to the model\r\n",
        "        y: target values for each input\r\n",
        "    '''\r\n",
        "    \r\n",
        "    with tf.GradientTape() as tape:\r\n",
        "    ### START CODE HERE ###\r\n",
        "        logits = model(x)\r\n",
        "        loss_value = loss_object(y, logits)\r\n",
        "  \r\n",
        "    gradients = tape.gradient(loss_value, model.trainable_weights)\r\n",
        "    optimizer.apply_gradients(zip(gradients, model.trainable_weights))\r\n",
        "    ### END CODE HERE ###\r\n",
        "  \r\n",
        "    return logits, loss_value"
      ],
      "execution_count": 32,
      "outputs": []
    },
    {
      "cell_type": "code",
      "metadata": {
        "id": "SbDQ6IHjtDFE"
      },
      "source": [
        "def train_data_for_one_epoch(train_dataset, optimizer, loss_object, model, \r\n",
        "                             train_acc_metric, train_f1score_metric, verbose=True):\r\n",
        "    '''\r\n",
        "    Computes the loss then updates the weights and metrics for one epoch.\r\n",
        "    \r\n",
        "    Args:\r\n",
        "        train_dataset: the training dataset\r\n",
        "        optimizer: optimizer to update model weights\r\n",
        "        loss_object: type of loss to measure during training\r\n",
        "        model: the model we are training\r\n",
        "        train_acc_metric: calculates how often predictions match labels\r\n",
        "        train_f1score_metric: custom metric we defined earlier\r\n",
        "    '''\r\n",
        "    losses = []\r\n",
        "\r\n",
        "    #Iterate through all batches of training data\r\n",
        "    for step, (x_batch_train, y_batch_train) in enumerate(train_dataset):\r\n",
        "\r\n",
        "        #Calculate loss and update trainable variables using optimizer\r\n",
        "        ### START CODE HERE ###\r\n",
        "        logits, loss_value = apply_gradient(optimizer, loss_object, model, x_batch_train, y_batch_train)\r\n",
        "        losses.append(loss_value)\r\n",
        "        ### END CODE HERE ###\r\n",
        "\r\n",
        "        #Round off logits to nearest integer and cast to integer for calulating metrics\r\n",
        "        logits = tf.round(logits)\r\n",
        "        logits = tf.cast(logits, 'int64')\r\n",
        "\r\n",
        "        #Update the training metrics\r\n",
        "        ### START CODE HERE ###\r\n",
        "        train_acc_metric.update_state(x_batch_train, logits)\r\n",
        "        train_f1score_metric.update_state(y_batch_train, logits)\r\n",
        "        ### END CODE HERE ###\r\n",
        "\r\n",
        "        #Update progress\r\n",
        "        if verbose:\r\n",
        "            print(\"Training loss for step %s: %.4f\" % (int(step), float(loss_value)))\r\n",
        "    \r\n",
        "    return losses\r\n"
      ],
      "execution_count": 34,
      "outputs": []
    },
    {
      "cell_type": "code",
      "metadata": {
        "id": "7VOGAz75tEfm"
      },
      "source": [
        "def perform_validation():\r\n",
        "    losses = []\r\n",
        "\r\n",
        "    #Iterate through all batches of validation data.\r\n",
        "    for x_val, y_val in test_dataset:\r\n",
        "\r\n",
        "        #Calculate validation loss for current batch.\r\n",
        "        val_logits = model(x_val) \r\n",
        "        val_loss = loss_object(y_true=y_val, y_pred=val_logits)\r\n",
        "        losses.append(val_loss)\r\n",
        "\r\n",
        "        #Round off and cast outputs to either  or 1\r\n",
        "        val_logits = tf.cast(tf.round(model(x_val)), 'int64')\r\n",
        "\r\n",
        "        #Update validation metrics\r\n",
        "        val_acc_metric.update_state(y_val, val_logits)\r\n",
        "        val_f1score_metric.update_state(y_val, val_logits)\r\n",
        "        \r\n",
        "    return losses"
      ],
      "execution_count": 36,
      "outputs": []
    },
    {
      "cell_type": "code",
      "metadata": {
        "colab": {
          "base_uri": "https://localhost:8080/"
        },
        "id": "lVXZf1TKtM5_",
        "outputId": "c8096bf7-a4f8-4f6b-a810-82d005ed3053"
      },
      "source": [
        "# Iterate over epochs.\r\n",
        "epochs = 5\r\n",
        "epochs_val_losses, epochs_train_losses = [], []\r\n",
        "\r\n",
        "for epoch in range(epochs):\r\n",
        "    print('Start of epoch %d' % (epoch,))\r\n",
        "    #Perform Training over all batches of train data\r\n",
        "    losses_train = train_data_for_one_epoch(train_dataset, optimizer, loss_object, model, train_acc_metric, train_f1score_metric)\r\n",
        "\r\n",
        "    # Get results from training metrics\r\n",
        "    train_acc = train_acc_metric.result()\r\n",
        "    train_f1score = train_f1score_metric.result()\r\n",
        "\r\n",
        "    #Perform validation on all batches of test data\r\n",
        "    losses_val = perform_validation()\r\n",
        "\r\n",
        "    # Get results from validation metrics\r\n",
        "    val_acc = val_acc_metric.result()\r\n",
        "    val_f1score = val_f1score_metric.result()\r\n",
        "\r\n",
        "    #Calculate training and validation losses for current epoch\r\n",
        "    losses_train_mean = np.mean(losses_train)\r\n",
        "    losses_val_mean = np.mean(losses_val)\r\n",
        "    epochs_val_losses.append(losses_val_mean)\r\n",
        "    epochs_train_losses.append(losses_train_mean)\r\n",
        "\r\n",
        "    print('\\n Epcoh %s: Train loss: %.4f  Validation Loss: %.4f, Train Accuracy: %.4f, Validation Accuracy %.4f, Train F1 Score: %.4f, Validation F1 Score: %.4f' % (epoch, float(losses_train_mean), float(losses_val_mean), float(train_acc), float(val_acc), train_f1score, val_f1score))\r\n",
        "\r\n",
        "    #Reset states of all metrics\r\n",
        "    train_acc_metric.reset_states()\r\n",
        "    val_acc_metric.reset_states()\r\n",
        "    val_f1score_metric.reset_states()\r\n",
        "    train_f1score_metric.reset_states()"
      ],
      "execution_count": 37,
      "outputs": [
        {
          "output_type": "stream",
          "text": [
            "Start of epoch 0\n",
            "Training loss for step 0: 0.7125\n",
            "Training loss for step 1: 0.5722\n",
            "Training loss for step 2: 0.4776\n",
            "Training loss for step 3: 0.4403\n",
            "Training loss for step 4: 0.3707\n",
            "Training loss for step 5: 0.3483\n",
            "Training loss for step 6: 0.2967\n",
            "Training loss for step 7: 0.3210\n",
            "Training loss for step 8: 0.2526\n",
            "Training loss for step 9: 0.2382\n",
            "Training loss for step 10: 0.1753\n",
            "Training loss for step 11: 0.2014\n",
            "Training loss for step 12: 0.2512\n",
            "Training loss for step 13: 0.1935\n",
            "Training loss for step 14: 0.1825\n",
            "Training loss for step 15: 0.1582\n",
            "Training loss for step 16: 0.1590\n",
            "Training loss for step 17: 0.0443\n",
            "\n",
            " Epcoh 0: Train loss: 0.2998  Validation Loss: 0.1600, Train Accuracy: 0.0000, Validation Accuracy 0.9688, Train F1 Score: 0.9191, Validation F1 Score: 0.9550\n",
            "Start of epoch 1\n",
            "Training loss for step 0: 0.1565\n",
            "Training loss for step 1: 0.1648\n",
            "Training loss for step 2: 0.1506\n",
            "Training loss for step 3: 0.1112\n",
            "Training loss for step 4: 0.1040\n",
            "Training loss for step 5: 0.1625\n",
            "Training loss for step 6: 0.0908\n",
            "Training loss for step 7: 0.0532\n",
            "Training loss for step 8: 0.0763\n",
            "Training loss for step 9: 0.1893\n",
            "Training loss for step 10: 0.0722\n",
            "Training loss for step 11: 0.0413\n",
            "Training loss for step 12: 0.0701\n",
            "Training loss for step 13: 0.0594\n",
            "Training loss for step 14: 0.1144\n",
            "Training loss for step 15: 0.0569\n",
            "Training loss for step 16: 0.1477\n",
            "Training loss for step 17: 0.0167\n",
            "\n",
            " Epcoh 1: Train loss: 0.1021  Validation Loss: 0.1060, Train Accuracy: 0.0000, Validation Accuracy 0.9688, Train F1 Score: 0.9626, Validation F1 Score: 0.9550\n",
            "Start of epoch 2\n",
            "Training loss for step 0: 0.0536\n",
            "Training loss for step 1: 0.0489\n",
            "Training loss for step 2: 0.0307\n",
            "Training loss for step 3: 0.0243\n",
            "Training loss for step 4: 0.0227\n",
            "Training loss for step 5: 0.0268\n",
            "Training loss for step 6: 0.0806\n",
            "Training loss for step 7: 0.1010\n",
            "Training loss for step 8: 0.1423\n",
            "Training loss for step 9: 0.0278\n",
            "Training loss for step 10: 0.0208\n",
            "Training loss for step 11: 0.1744\n",
            "Training loss for step 12: 0.0584\n",
            "Training loss for step 13: 0.1739\n",
            "Training loss for step 14: 0.1175\n",
            "Training loss for step 15: 0.0623\n",
            "Training loss for step 16: 0.1549\n",
            "Training loss for step 17: 0.0700\n",
            "\n",
            " Epcoh 2: Train loss: 0.0773  Validation Loss: 0.0945, Train Accuracy: 0.0000, Validation Accuracy 0.9625, Train F1 Score: 0.9626, Validation F1 Score: 0.9455\n",
            "Start of epoch 3\n",
            "Training loss for step 0: 0.0295\n",
            "Training loss for step 1: 0.0152\n",
            "Training loss for step 2: 0.0566\n",
            "Training loss for step 3: 0.1919\n",
            "Training loss for step 4: 0.0298\n",
            "Training loss for step 5: 0.0218\n",
            "Training loss for step 6: 0.0372\n",
            "Training loss for step 7: 0.0359\n",
            "Training loss for step 8: 0.1920\n",
            "Training loss for step 9: 0.1056\n",
            "Training loss for step 10: 0.0111\n",
            "Training loss for step 11: 0.0262\n",
            "Training loss for step 12: 0.2023\n",
            "Training loss for step 13: 0.0608\n",
            "Training loss for step 14: 0.0156\n",
            "Training loss for step 15: 0.1314\n",
            "Training loss for step 16: 0.0342\n",
            "Training loss for step 17: 0.0049\n",
            "\n",
            " Epcoh 3: Train loss: 0.0668  Validation Loss: 0.0899, Train Accuracy: 0.0000, Validation Accuracy 0.9625, Train F1 Score: 0.9651, Validation F1 Score: 0.9455\n",
            "Start of epoch 4\n",
            "Training loss for step 0: 0.0147\n",
            "Training loss for step 1: 0.0173\n",
            "Training loss for step 2: 0.0140\n",
            "Training loss for step 3: 0.0422\n",
            "Training loss for step 4: 0.0156\n",
            "Training loss for step 5: 0.0728\n",
            "Training loss for step 6: 0.2801\n",
            "Training loss for step 7: 0.0246\n",
            "Training loss for step 8: 0.0106\n",
            "Training loss for step 9: 0.1310\n",
            "Training loss for step 10: 0.1514\n",
            "Training loss for step 11: 0.0511\n",
            "Training loss for step 12: 0.0374\n",
            "Training loss for step 13: 0.0510\n",
            "Training loss for step 14: 0.0718\n",
            "Training loss for step 15: 0.0225\n",
            "Training loss for step 16: 0.1211\n",
            "Training loss for step 17: 0.0203\n",
            "\n",
            " Epcoh 4: Train loss: 0.0639  Validation Loss: 0.0854, Train Accuracy: 0.0000, Validation Accuracy 0.9688, Train F1 Score: 0.9651, Validation F1 Score: 0.9550\n"
          ],
          "name": "stdout"
        }
      ]
    },
    {
      "cell_type": "code",
      "metadata": {
        "colab": {
          "base_uri": "https://localhost:8080/",
          "height": 281
        },
        "id": "3jRtlsc1tQxP",
        "outputId": "626a127f-fc79-4105-fcdd-e81ace917ff6"
      },
      "source": [
        "def plot_metrics(train_metric, val_metric, metric_name, title, ylim=5):\r\n",
        "    plt.title(title)\r\n",
        "    plt.ylim(0,ylim)\r\n",
        "    plt.gca().xaxis.set_major_locator(mticker.MultipleLocator(1))\r\n",
        "    plt.plot(train_metric,color='blue',label=metric_name)\r\n",
        "    plt.plot(val_metric,color='green',label='val_' + metric_name)\r\n",
        "\r\n",
        "plot_metrics(epochs_train_losses, epochs_val_losses, \"Loss\", \"Loss\", ylim=1.0)"
      ],
      "execution_count": 38,
      "outputs": [
        {
          "output_type": "display_data",
          "data": {
            "image/png": "[encoded data removed]",
            "text/plain": [
              "<Figure size 432x288 with 1 Axes>"
            ]
          },
          "metadata": {
            "tags": [],
            "needs_background": "light"
          }
        }
      ]
    },
    {
      "cell_type": "code",
      "metadata": {
        "colab": {
          "base_uri": "https://localhost:8080/",
          "height": 289
        },
        "id": "RiSe4lrhtSnu",
        "outputId": "3825861d-c775-4f28-c39a-dff932956931"
      },
      "source": [
        "test_outputs = model(norm_test_X.values)\r\n",
        "plot_confusion_matrix(test_Y.values, tf.round(test_outputs), title='Confusion Matrix for Untrained Model')"
      ],
      "execution_count": 39,
      "outputs": [
        {
          "output_type": "display_data",
          "data": {
            "image/png": "[encoded data removed]",
            "text/plain": [
              "<Figure size 432x288 with 2 Axes>"
            ]
          },
          "metadata": {
            "tags": [],
            "needs_background": "light"
          }
        }
      ]
    },
    {
      "cell_type": "code",
      "metadata": {
        "id": "JOJtDckGtUDt"
      },
      "source": [
        ""
      ],
      "execution_count": null,
      "outputs": []
    }
  ]
}