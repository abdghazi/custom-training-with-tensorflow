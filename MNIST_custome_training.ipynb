{
  "nbformat": 4,
  "nbformat_minor": 0,
  "metadata": {
    "colab": {
      "name": "MNIST_custome_training.ipynb",
      "provenance": []
    },
    "kernelspec": {
      "name": "python3",
      "display_name": "Python 3"
    }
  },
  "cells": [
    {
      "cell_type": "code",
      "metadata": {
        "id": "ZAiTxNRNGAnV"
      },
      "source": [
        "try:\r\n",
        "  # %tensorflow_version only exists in Colab.\r\n",
        "  %tensorflow_version 2.x\r\n",
        "except Exception:\r\n",
        "  pass\r\n",
        "  \r\n",
        "import tensorflow as tf\r\n",
        "from tensorflow.keras.models import Model\r\n",
        "from tensorflow.keras.layers import Dense, Input\r\n",
        "\r\n",
        "import numpy as np\r\n",
        "import matplotlib.pyplot as plt\r\n",
        "import pandas as pd\r\n",
        "from sklearn.model_selection import train_test_split\r\n",
        "from sklearn.metrics import confusion_matrix\r\n",
        "import itertools\r\n",
        "from tqdm import tqdm\r\n",
        "import tensorflow_datasets as tfds\r\n",
        "import matplotlib.ticker as mticker"
      ],
      "execution_count": null,
      "outputs": []
    },
    {
      "cell_type": "code",
      "metadata": {
        "id": "sAeaMbhMGGIt"
      },
      "source": [
        "# Load and Preprocess Data¶\r\n",
        "# You will load the Fashion MNIST dataset using Tensorflow Datasets. This dataset has 28 x 28 grayscale images of articles of clothing belonging to 10 clases.\r\n",
        "\r\n",
        "# Here you are going to use the training and testing splits of the data. Testing split will be used for validation."
      ],
      "execution_count": null,
      "outputs": []
    },
    {
      "cell_type": "code",
      "metadata": {
        "id": "-MPRTi4KJElC"
      },
      "source": [
        "train_data, info = tfds.load(\"fashion_mnist\", split = \"train\", with_info = True, data_dir='./data/', download=True)\r\n",
        "test_data = tfds.load(\"fashion_mnist\", split = \"test\", data_dir='./data/', download=False)"
      ],
      "execution_count": null,
      "outputs": []
    },
    {
      "cell_type": "code",
      "metadata": {
        "colab": {
          "base_uri": "https://localhost:8080/"
        },
        "id": "6Mbf01toJHZV",
        "outputId": "3dd5781b-d6e4-49f8-c1be-2f75f337159a"
      },
      "source": [
        "print(\"done\")"
      ],
      "execution_count": null,
      "outputs": [
        {
          "output_type": "stream",
          "text": [
            "done\n"
          ],
          "name": "stdout"
        }
      ]
    },
    {
      "cell_type": "code",
      "metadata": {
        "id": "QF57YlxjL-Uv"
      },
      "source": [
        "class_names = [\"T-shirt/top\", \"Trouser/pants\", \"Pullover shirt\", \"Dress\", \"Coat\", \"Sandal\", \"Shirt\", \"Sneaker\", \"Bag\", \"Ankle boot\"]"
      ],
      "execution_count": null,
      "outputs": []
    },
    {
      "cell_type": "code",
      "metadata": {
        "colab": {
          "base_uri": "https://localhost:8080/"
        },
        "id": "3QDdmdC-MA1U",
        "outputId": "0ccab074-9b36-4581-f153-89846dbff0be"
      },
      "source": [
        "train_data"
      ],
      "execution_count": null,
      "outputs": [
        {
          "output_type": "execute_result",
          "data": {
            "text/plain": [
              "<PrefetchDataset shapes: {image: (28, 28, 1), label: ()}, types: {image: tf.uint8, label: tf.int64}>"
            ]
          },
          "metadata": {
            "tags": []
          },
          "execution_count": 6
        }
      ]
    },
    {
      "cell_type": "code",
      "metadata": {
        "id": "_Sug4t7RMDZU"
      },
      "source": [
        "def format_image(data):        \r\n",
        "    image = data[\"image\"]\r\n",
        "    image = tf.reshape(image, [-1])\r\n",
        "    image = tf.cast(image, 'float32')\r\n",
        "    image = image / 255.0\r\n",
        "    return image, data[\"label\"]"
      ],
      "execution_count": null,
      "outputs": []
    },
    {
      "cell_type": "code",
      "metadata": {
        "id": "-HY-XpaMMG3D"
      },
      "source": [
        "train_data = train_data.map(format_image)\r\n",
        "test_data = test_data.map(format_image)"
      ],
      "execution_count": null,
      "outputs": []
    },
    {
      "cell_type": "code",
      "metadata": {
        "colab": {
          "base_uri": "https://localhost:8080/"
        },
        "id": "WcOHjaetMLAI",
        "outputId": "9e0264d6-dadb-4f5f-841f-8098b6b564a0"
      },
      "source": [
        "train_data"
      ],
      "execution_count": null,
      "outputs": [
        {
          "output_type": "execute_result",
          "data": {
            "text/plain": [
              "<MapDataset shapes: ((784,), ()), types: (tf.float32, tf.int64)>"
            ]
          },
          "metadata": {
            "tags": []
          },
          "execution_count": 9
        }
      ]
    },
    {
      "cell_type": "code",
      "metadata": {
        "id": "eyGVh8w3ML_y"
      },
      "source": [
        "batch_size =64\r\n",
        "train = train_data.shuffle(buffer_size=1024).batch(batch_size)\r\n",
        "test = test_data.batch(batch_size=batch_size)"
      ],
      "execution_count": null,
      "outputs": []
    },
    {
      "cell_type": "code",
      "metadata": {
        "id": "tDPZWpVlMivC"
      },
      "source": [
        "def base_model():\r\n",
        "\r\n",
        "  inputs = tf.keras.Input(shape=(28*28,), name='ins')\r\n",
        "  x = tf.keras.layers.Dense(64, activation='relu', name='dense1')(inputs)\r\n",
        "  x = tf.keras.layers.Dense(64, activation='relu', name='dense2')(x)\r\n",
        "  outputs = tf.keras.layers.Dense(10, activation = 'softmax')(x)\r\n",
        "\r\n",
        "  model = Model(inputs=inputs, outputs=outputs)\r\n",
        "\r\n",
        "  return model"
      ],
      "execution_count": null,
      "outputs": []
    },
    {
      "cell_type": "code",
      "metadata": {
        "id": "SV15FmgmNmL5"
      },
      "source": [
        "optimizer = tf.keras.optimizers.Adam()\r\n",
        "loss = tf.keras.losses.SparseCategoricalCrossentropy()"
      ],
      "execution_count": null,
      "outputs": []
    },
    {
      "cell_type": "code",
      "metadata": {
        "id": "nY2gzUsSNzHA"
      },
      "source": [
        "train_acc_metric = tf.keras.metrics.SparseCategoricalAccuracy()\r\n",
        "val_acc_metric = tf.keras.metrics.SparseCategoricalAccuracy()"
      ],
      "execution_count": null,
      "outputs": []
    },
    {
      "cell_type": "code",
      "metadata": {
        "id": "0pNDmApgOCXq"
      },
      "source": [
        "# Building Training Loop\r\n",
        "# In this section you build your training loop consisting of training and validation sequences.\r\n",
        "\r\n",
        "# The core of training is using the model to calculate the logits on specific set of inputs and compute loss (in this case sparse categorical crossentropy) by comparing the predicted outputs to the true outputs. You then update the trainable weights using the optimizer algorithm chosen. Optimizer algorithm requires your computed loss and partial derivatives of loss with respect to each of the trainable weights to make updates to the same.\r\n",
        "\r\n",
        "# You use gradient tape to calculate the gradients and then update the model trainable weights using the optimizer."
      ],
      "execution_count": null,
      "outputs": []
    },
    {
      "cell_type": "code",
      "metadata": {
        "id": "dWeHUP0YOF-e"
      },
      "source": [
        "def apply_grads(optimizer, model, x, y):\r\n",
        "  with tf.GradientTape() as t:\r\n",
        "    logits = model(x)\r\n",
        "    loss_val = loss(y, logits)\r\n",
        "  grads = t.gradient(loss_val, model.trainable_weights)\r\n",
        "  optimizer.apply_gradients(zip(grads, model.trainable_weights))\r\n",
        "\r\n",
        "  return logits, loss_val"
      ],
      "execution_count": null,
      "outputs": []
    },
    {
      "cell_type": "code",
      "metadata": {
        "id": "O4ZSnUj5PCnf"
      },
      "source": [
        "def train_onces():\r\n",
        "  losses=[]\r\n",
        "  pbar = tqdm(total=len(list(enumerate(train))), position=0, leave=True, bar_format='{l_bar}{bar}| {n_fmt}/{total_fmt} ')\r\n",
        "  for step, (x_batch, y_batch) in enumerate(train):\r\n",
        "    logits, loss_val = apply_grads(optimizer, model, x_batch, y_batch)\r\n",
        "    losses.append(loss_val)\r\n",
        "\r\n",
        "    train_acc_metric(y_batch, logits)\r\n",
        "    pbar.set_description(\"Training loss for step %s: %.4f\" % (int(step), float(loss_val)))\r\n",
        "    pbar.update()\r\n",
        "  return losses"
      ],
      "execution_count": null,
      "outputs": []
    },
    {
      "cell_type": "markdown",
      "metadata": {
        "id": "ZC4vGqexPuTp"
      },
      "source": [
        ""
      ]
    },
    {
      "cell_type": "code",
      "metadata": {
        "id": "QbrY7I4bQgBj"
      },
      "source": [
        "def validation():\r\n",
        "  losses = []\r\n",
        "  for x_val, y_val in test:\r\n",
        "    val_logits = model(x_val)\r\n",
        "    val_loss = loss(y_val, val_logits)\r\n",
        "    losses.append(val_loss)\r\n",
        "\r\n",
        "    val_acc_metric(y_val, val_logits)\r\n",
        "\r\n",
        "    return losses"
      ],
      "execution_count": null,
      "outputs": []
    },
    {
      "cell_type": "code",
      "metadata": {
        "id": "92ep8A8sQgLa"
      },
      "source": [
        "model = base_model()"
      ],
      "execution_count": null,
      "outputs": []
    },
    {
      "cell_type": "code",
      "metadata": {
        "colab": {
          "base_uri": "https://localhost:8080/"
        },
        "id": "0R6XipmyRi0C",
        "outputId": "42837791-edd3-479d-ec7e-30bfa47c042c"
      },
      "source": [
        "epochs = 10\r\n",
        "epochs_val_losses, epochs_train_losses = [], []\r\n",
        "\r\n",
        "for epoch in range(epochs):\r\n",
        "  print(\"start of epoch %d\" %(epoch,))\r\n",
        "  losses_train = train_onces()\r\n",
        "  train_acc = train_acc_metric.result()\r\n",
        "\r\n",
        "  losses_val = validation()\r\n",
        "  val_acc = val_acc_metric.result()\r\n",
        "\r\n",
        "  losses_train_mean = np.mean(losses_train)\r\n",
        "  losses_val_mean = np.mean(losses_val)\r\n",
        "\r\n",
        "  epochs_val_losses.append(losses_val_mean)\r\n",
        "  epochs_train_losses.append(losses_train_mean)\r\n",
        "\r\n",
        "\r\n",
        "  print('\\n Epoch %s: Train loss: %.4f  Validation Loss: %.4f, Train Accuracy: %.4f, Validation Accuracy %.4f' % (epoch, float(losses_train_mean),\r\n",
        "                                                                                                                  float(losses_val_mean), float(train_acc), float(val_acc)))\r\n",
        "  \r\n",
        "  train_acc_metric.reset_states()\r\n",
        "  val_acc_metric.reset_states()\r\n"
      ],
      "execution_count": null,
      "outputs": [
        {
          "output_type": "stream",
          "text": [
            "start of epoch 0\n"
          ],
          "name": "stdout"
        },
        {
          "output_type": "stream",
          "text": [
            "Training loss for step 937: 0.2732: 100%|█████████▉| 937/938 "
          ],
          "name": "stderr"
        },
        {
          "output_type": "stream",
          "text": [
            "\n",
            " Epoch 0: Train loss: 0.5366  Validation Loss: 0.2317, Train Accuracy: 0.8101, Validation Accuracy 0.9062\n",
            "start of epoch 1\n"
          ],
          "name": "stdout"
        },
        {
          "output_type": "stream",
          "text": [
            "Training loss for step 937: 0.3869: 100%|█████████▉| 937/938 "
          ],
          "name": "stderr"
        },
        {
          "output_type": "stream",
          "text": [
            "\n",
            " Epoch 1: Train loss: 0.3907  Validation Loss: 0.2030, Train Accuracy: 0.8592, Validation Accuracy 0.9531\n",
            "start of epoch 2\n"
          ],
          "name": "stdout"
        },
        {
          "output_type": "stream",
          "text": [
            "Training loss for step 937: 0.3186: 100%|██████████| 938/938 "
          ],
          "name": "stderr"
        },
        {
          "output_type": "stream",
          "text": [
            "\n",
            " Epoch 2: Train loss: 0.3538  Validation Loss: 0.2016, Train Accuracy: 0.8720, Validation Accuracy 0.9531\n",
            "start of epoch 3\n"
          ],
          "name": "stdout"
        },
        {
          "output_type": "stream",
          "text": [
            "Training loss for step 937: 0.3556: 100%|█████████▉| 937/938 "
          ],
          "name": "stderr"
        },
        {
          "output_type": "stream",
          "text": [
            "\n",
            " Epoch 3: Train loss: 0.3285  Validation Loss: 0.1833, Train Accuracy: 0.8806, Validation Accuracy 0.9219\n",
            "start of epoch 4\n"
          ],
          "name": "stdout"
        },
        {
          "output_type": "stream",
          "text": [
            "Training loss for step 937: 0.3151: 100%|█████████▉| 937/938 "
          ],
          "name": "stderr"
        },
        {
          "output_type": "stream",
          "text": [
            "\n",
            " Epoch 4: Train loss: 0.3100  Validation Loss: 0.1307, Train Accuracy: 0.8860, Validation Accuracy 0.9688\n",
            "start of epoch 5\n"
          ],
          "name": "stdout"
        },
        {
          "output_type": "stream",
          "text": [
            "Training loss for step 937: 0.1623: 100%|██████████| 938/938 "
          ],
          "name": "stderr"
        },
        {
          "output_type": "stream",
          "text": [
            "\n",
            " Epoch 5: Train loss: 0.2981  Validation Loss: 0.1299, Train Accuracy: 0.8899, Validation Accuracy 0.9531\n",
            "start of epoch 6\n"
          ],
          "name": "stdout"
        },
        {
          "output_type": "stream",
          "text": [
            "Training loss for step 937: 0.6164: 100%|█████████▉| 937/938 "
          ],
          "name": "stderr"
        },
        {
          "output_type": "stream",
          "text": [
            "\n",
            " Epoch 6: Train loss: 0.2854  Validation Loss: 0.1261, Train Accuracy: 0.8950, Validation Accuracy 0.9688\n",
            "start of epoch 7\n"
          ],
          "name": "stdout"
        },
        {
          "output_type": "stream",
          "text": [
            "Training loss for step 937: 0.1005: 100%|█████████▉| 937/938 "
          ],
          "name": "stderr"
        },
        {
          "output_type": "stream",
          "text": [
            "\n",
            " Epoch 7: Train loss: 0.2734  Validation Loss: 0.1844, Train Accuracy: 0.8987, Validation Accuracy 0.9531\n",
            "start of epoch 8\n"
          ],
          "name": "stdout"
        },
        {
          "output_type": "stream",
          "text": [
            "Training loss for step 937: 0.3293: 100%|██████████| 938/938 "
          ],
          "name": "stderr"
        },
        {
          "output_type": "stream",
          "text": [
            "\n",
            " Epoch 8: Train loss: 0.2633  Validation Loss: 0.1535, Train Accuracy: 0.9007, Validation Accuracy 0.9375\n",
            "start of epoch 9\n"
          ],
          "name": "stdout"
        },
        {
          "output_type": "stream",
          "text": [
            "Training loss for step 937: 0.2002: 100%|█████████▉| 937/938 "
          ],
          "name": "stderr"
        },
        {
          "output_type": "stream",
          "text": [
            "\n",
            " Epoch 9: Train loss: 0.2563  Validation Loss: 0.1261, Train Accuracy: 0.9043, Validation Accuracy 0.9688\n"
          ],
          "name": "stdout"
        }
      ]
    },
    {
      "cell_type": "code",
      "metadata": {
        "colab": {
          "base_uri": "https://localhost:8080/",
          "height": 281
        },
        "id": "RU8UmnP1S1eb",
        "outputId": "7c33db2a-419f-4877-cae0-16d1c0353487"
      },
      "source": [
        "def plot_metrics(train_metric, val_metric, metric_name, title, ylim=5):\r\n",
        "  plt.title(title)\r\n",
        "  plt.ylim(0,ylim)\r\n",
        "  plt.gca().xaxis.set_major_locator(mticker.MultipleLocator(1))\r\n",
        "  plt.plot(train_metric,color='blue',label=metric_name)\r\n",
        "  plt.plot(val_metric,color='green',label='val_' + metric_name)\r\n",
        "\r\n",
        "plot_metrics(epochs_train_losses, epochs_val_losses, \"Loss\", \"Loss\", ylim=1.0)"
      ],
      "execution_count": null,
      "outputs": [
        {
          "output_type": "display_data",
          "data": {
            "image/png": "[encoded data removed]",
            "text/plain": [
              "<Figure size 432x288 with 1 Axes>"
            ]
          },
          "metadata": {
            "tags": [],
            "needs_background": "light"
          }
        }
      ]
    },
    {
      "cell_type": "code",
      "metadata": {
        "id": "ekhyJH3xWKxy"
      },
      "source": [
        "# utility to display a row of images with their predictions and true labels\r\n",
        "def display_images(image, predictions, labels, title, n):\r\n",
        "\r\n",
        "  display_strings = [str(i) + \"\\n\\n\" + str(j) for i, j in zip(predictions, labels)] \r\n",
        "\r\n",
        "  plt.figure(figsize=(17,3))\r\n",
        "  plt.title(title)\r\n",
        "  plt.yticks([])\r\n",
        "  plt.xticks([28*x+14 for x in range(n)], display_strings)\r\n",
        "  plt.grid(None)\r\n",
        "  image = np.reshape(image, [n, 28, 28])\r\n",
        "  image = np.swapaxes(image, 0, 1)\r\n",
        "  image = np.reshape(image, [28, 28*n])\r\n",
        "  plt.imshow(image)"
      ],
      "execution_count": null,
      "outputs": []
    },
    {
      "cell_type": "code",
      "metadata": {
        "id": "qVNBkEn1WMyL",
        "colab": {
          "base_uri": "https://localhost:8080/",
          "height": 182
        },
        "outputId": "804b8da4-6a06-42ce-dc76-51b145fba8e5"
      },
      "source": [
        "test_inputs = test_data.batch(batch_size=1000001)\r\n",
        "x_batches, y_pred_batches, y_true_batches = [], [], []\r\n",
        "\r\n",
        "for x, y in test_inputs:\r\n",
        "  y_pred = model(x)\r\n",
        "  y_pred_batches = y_pred.numpy()\r\n",
        "  y_true_batches = y.numpy()\r\n",
        "  x_batches = x.numpy()\r\n",
        "\r\n",
        "indexes = np.random.choice(len(y_pred_batches), size=10)\r\n",
        "images_to_plot = x_batches[indexes]\r\n",
        "y_pred_to_plot = y_pred_batches[indexes]\r\n",
        "y_true_to_plot = y_true_batches[indexes]\r\n",
        "\r\n",
        "y_pred_labels = [class_names[np.argmax(sel_y_pred)] for sel_y_pred in y_pred_to_plot]\r\n",
        "y_true_labels = [class_names[sel_y_true] for sel_y_true in y_true_to_plot]\r\n",
        "display_images(images_to_plot, y_pred_labels, y_true_labels, \"Predicted and True Values\", 10)"
      ],
      "execution_count": null,
      "outputs": [
        {
          "output_type": "display_data",
          "data": {
            "image/png": "[encoded data removed]",
            "text/plain": [
              "<Figure size 1224x216 with 1 Axes>"
            ]
          },
          "metadata": {
            "tags": [],
            "needs_background": "light"
          }
        }
      ]
    },
    {
      "cell_type": "code",
      "metadata": {
        "id": "yMyaZNCXWOZw"
      },
      "source": [
        ""
      ],
      "execution_count": null,
      "outputs": []
    }
  ]
}